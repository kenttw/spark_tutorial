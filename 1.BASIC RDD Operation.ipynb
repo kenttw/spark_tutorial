{
 "cells": [
  {
   "cell_type": "markdown",
   "metadata": {},
   "source": [
    "## RDD 常用的 Function 如下\n",
    "* first() - 取得 RDD 裡頭的第一個元素\n",
    "* count() - 計算 RDD 裡頭元素的個數 [延伸function：countByKey(), countByValue()]\n",
    "* map(func) - 對 RDD 的裡頭的元素進行處理動作\n",
    "* reduce(func) - 對 RDD 的裡頭的所有的元素作合作的動作\n",
    "* mapValues (func) - 排除 Key,只對 RDD 的裡頭的元素進行處理動作\n",
    "* reduceByKey(func) - 將相同的 Key 裡頭的 Values 給予合併起來\n",
    "* groupByKey() - 把相同 Key 值的 Values 串成一個list，可對其進行python list的運算\n",
    "* filter(func) - 根據 condition 判斷是否需要保留\n",
    "* collect() - 實際執行 Spark 指令並將 RDD 整理為 Python 的 List 資料形式\n",
    "\n",
    "###  [Official Docuent](http://spark.apache.org/docs/latest/api/python/pyspark.html#pyspark.RDD)"
   ]
  },
  {
   "cell_type": "code",
   "execution_count": 1,
   "metadata": {
    "collapsed": false
   },
   "outputs": [],
   "source": [
    "# Create a RDD with 1 ~ 10\n",
    "rdd_1_10 = sc.parallelize([1,2,3,4,5,6,7,8,9,10])"
   ]
  },
  {
   "cell_type": "code",
   "execution_count": 2,
   "metadata": {
    "collapsed": false
   },
   "outputs": [
    {
     "name": "stdout",
     "output_type": "stream",
     "text": [
      "First: 1\n",
      "Have: 10 Items\n"
     ]
    }
   ],
   "source": [
    "print 'First:',rdd_1_10.first()\n",
    "print 'Have:',rdd_1_10.count(),'Items'"
   ]
  },
  {
   "cell_type": "code",
   "execution_count": 3,
   "metadata": {
    "collapsed": false
   },
   "outputs": [
    {
     "data": {
      "text/plain": [
       "[2, 4, 6, 8, 10, 12, 14, 16, 18, 20]"
      ]
     },
     "execution_count": 3,
     "metadata": {},
     "output_type": "execute_result"
    }
   ],
   "source": [
    "#Multiply with 2\n",
    "rdd_1_10.map(lambda x : x *2).collect()"
   ]
  },
  {
   "cell_type": "code",
   "execution_count": 4,
   "metadata": {
    "collapsed": false
   },
   "outputs": [
    {
     "data": {
      "text/plain": [
       "55"
      ]
     },
     "execution_count": 4,
     "metadata": {},
     "output_type": "execute_result"
    }
   ],
   "source": [
    "# sum of all\n",
    "rdd_1_10.reduce(lambda x,y : x+ y )"
   ]
  },
  {
   "cell_type": "code",
   "execution_count": 5,
   "metadata": {
    "collapsed": false
   },
   "outputs": [
    {
     "data": {
      "text/plain": [
       "[('a', 2), ('b', 1)]"
      ]
     },
     "execution_count": 5,
     "metadata": {},
     "output_type": "execute_result"
    }
   ],
   "source": [
    "# use reduce by key\n",
    "rdd = sc.parallelize([(\"a\", 1), (\"b\", 1), (\"a\", 1)])\n",
    "rdd.reduceByKey(lambda x,y : x+y ).collect()"
   ]
  },
  {
   "cell_type": "markdown",
   "metadata": {},
   "source": [
    "## <font color=blue>請修改??，並過濾出大於5,且算出所有裡元素的乘積</font>"
   ]
  },
  {
   "cell_type": "code",
   "execution_count": 6,
   "metadata": {
    "collapsed": false
   },
   "outputs": [
    {
     "name": "stdout",
     "output_type": "stream",
     "text": [
      "[6, 7, 8, 9, 10]\n",
      "30240\n",
      "恭喜你答對了\n"
     ]
    }
   ],
   "source": [
    "rdd_over_5 = rdd_1_10.filter(lambda x : x > 5)\n",
    "print rdd_over_5.collect()\n",
    "value = rdd_over_5.reduce(lambda x,y:x*y)\n",
    "print value\n",
    "if value == 30240 : print \"恭喜你答對了\""
   ]
  },
  {
   "cell_type": "code",
   "execution_count": null,
   "metadata": {
    "collapsed": true
   },
   "outputs": [],
   "source": []
  }
 ],
 "metadata": {
  "kernelspec": {
   "display_name": "Python 2",
   "language": "python",
   "name": "python2"
  },
  "language_info": {
   "codemirror_mode": {
    "name": "ipython",
    "version": 2
   },
   "file_extension": ".py",
   "mimetype": "text/x-python",
   "name": "python",
   "nbconvert_exporter": "python",
   "pygments_lexer": "ipython2",
   "version": "2.7.6"
  }
 },
 "nbformat": 4,
 "nbformat_minor": 0
}
