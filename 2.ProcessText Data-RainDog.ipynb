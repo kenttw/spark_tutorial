{
 "cells": [
  {
   "cell_type": "markdown",
   "metadata": {},
   "source": [
    "# 安裝相關套件"
   ]
  },
  {
   "cell_type": "code",
   "execution_count": null,
   "metadata": {
    "collapsed": false
   },
   "outputs": [],
   "source": [
    "!sudo pip install jieba\n",
    "!sudo pip install BeautifulSoup4"
   ]
  },
  {
   "cell_type": "markdown",
   "metadata": {},
   "source": [
    "# 欲抓的網頁列表"
   ]
  },
  {
   "cell_type": "code",
   "execution_count": 5,
   "metadata": {
    "collapsed": false
   },
   "outputs": [],
   "source": [
    "urllist = ['https://jay7134.pixnet.net/blog/post/229619147',\n",                                                               
    "        'https://jay7134.pixnet.net/blog/post/228211571',\n",                                                                  
    "        'https://jay7134.pixnet.net/blog/post/223886810',\n",                                                                  
    "        'https://jay7134.pixnet.net/blog/post/228361994',\n",                                                                  
    "        'https://jay7134.pixnet.net/blog/post/227584820']\n",   
    "           ]\n",
    "#f = open('./raindog.csv')\n",
    "#urllist = []\n",
    "for url in urllist :\n",
    "    urllist.append(url)"
   ]
  },
  {
   "cell_type": "markdown",
   "metadata": {},
   "source": [
    "# 下載網頁並且組成一個檔案"
   ]
  },
  {
   "cell_type": "code",
   "execution_count": 8,
   "metadata": {
    "collapsed": false
   },
   "outputs": [
    {
     "name": "stdout",
     "output_type": "stream",
     "text": [
      " * * * * * * * * * * * * * * * * * * * * Error At: http://raindog.pixnet.net/blog/post/33470980-%e5%b0%8f%e8%98%bf%e8%8e%89%e7%95%b6%e5%a7%90%e5%a7%90%e4%ba%86\n",
      "\n",
      "* * * * * * * * * * * * * * * * * * * * * * * * * * * * * * * * * * * * * * * * * * * * * * * * * * * * * * * * * * * * * * * * * * * * * * * * * * * * * * * * * * * * * * * * * * * * * * * * * * * * * * * * * * * * * * * * * * * * * * * * * * * * * * * * * * * * * * * * * * * * * * * * Error At: http://raindog.v6.pixnet.net/blog/post/26262754-%e8%91%89%e7%8e%b2%e8%a3%b8%e6%8b%8d%e3%80%8a3d%e7%8e%89%e8%92%b2%e5%9c%98%e3%80%8b\n",
      "\n",
      "* * * * * * * * * * * * * * * * * * * * * * * * * * * * * * * * * * * * * * * * * * * * * * * * * * * * * * * * * Error At: http://raindog.v6.pixnet.net/blog/post/29306256-%e4%bb%b2%e6%9d%91%e7%be%8e%e5%84%aa%e5%85%a8%e8%a3%b8%e9%9c%b2%e6%af%9b%e5%af%ab%e7%9c%9f%e5%85%ac%e9%96%8b%ef%bc%81\n",
      "\n",
      "* * * * * * * * * * * * * * * * * * * * * * * * * * * * * * * * * * * * * * * * * * * * * * * * * * * * * * * * * * * * * * * * * * * * * Error At: http://raindog.v6.pixnet.net/blog/post/21544984-%e5%bd%9d%e6%97%8f%e7%9a%84%e8%be%b2%e6%ad%b7%e4%b8%83%e6%9c%88%e5%8d%81%e4%ba%94\n",
      "\n",
      "* * * * * * * * * * * * * * * * * * * * * * Error At: http://raindog.pixnet.net/blog/post/26374241-%e7%af%80%e5%88%86%e8%a6%81%e5%90%83%e6%83%a0%e6%96%b9%e5%8d%b7\n",
      "\n",
      "* * * * * * * * * * * * * * * * * * * * * * * * * * * * * * * * * * * * * * * * * * * * * * * * * * * * * * * * * * * * * * * * * * * * * * * * * * * * * * * * * * * * * * * * * * * * * * * * * * * * * * * * * * * * * * * * * * * * * * * * * * * * * * * * * * * * * * * * * * * * * * * * * * * * * * * * * * * * * * * * * * * * * * * * * * * * * * * * * * * * * * * * * * * * * * * * * * * * * * * * * * * * * * * * * * * * * * * * * * * * * * * * * * * * * * * * * * * * * * * * * * * * * * * * * * * * * * * * * * * * * * * * * * * * * * * * * * * * * * * * * * * * * * * * * * * * * * * * * * * * * * * * * * * * * * * * * * * * * * * * * * * * * * * * * * * * * * * * * * * * * * * * * * * * * * * * * * * * * * * * * * * * * * * * * * * * * * * * * * * * * * * * * * * * * * * * * * * * * * * * * * * * * * * * * * * * * * * * * * * * * * * * * * * * * * * * * * * * * * * * * * * * * * * * * * * * * * * * * * * * * * * * * * * * * * * * * * * * * * * * * * * * * * * * * * * * * * * * * * * * * * * * * * * * * * * * * * * * * * * * * * * * * * * * * * * * * * * * * * * * * * * * * * * * * * * * * * * * * * * * * Error At: http://raindog.v6.pixnet.net/blog/post/33576304-bambino%e7%9a%84%e9%9f%93%e5%bc%8f%e9%ae%91%e9%ad%9a%e6%96%99%e7%90%86\n",
      "\n",
      "* * * * * * * * * * * * * * * * * * * * * * * * * * * * * * * * * * * * * * * * * * * * * * * * * * * * * * * * * * * * * * * * * * * * * * * * * * Error At: http://raindog.v6.pixnet.net/blog/post/29498681-%e3%80%8afhm%e3%80%8b2012%e6%9c%88%e6%9b%86\n",
      "\n",
      "* * * * * * * * * * * * * * * * * * * * * * * * * * * * * * * * * * * * * * * * * * * * * *\n"
     ]
    }
   ],
   "source": [
    "import urllib2\n",
    "import json\n",
    "f = open('./raingod.txt',\"w\")\n",
    "\n",
    "for u in urllist:\n",
    "    try:\n",
    "        line = {}\n",
    "        response = urllib2.urlopen(u)\n",
    "        html = response.read()\n",
    "        html = html.replace('\\r','').replace('\\n','')\n",
    "        line['html'] = html\n",
    "        line['url'] =u\n",
    "\n",
    "        line_str = json.dumps(line)\n",
    "        print '*',\n",
    "        f.write(line_str+\"\\r\\n\")\n",
    "    except :\n",
    "        print \"Error At:\" , u\n",
    "f.close()"
   ]
  },
  {
   "cell_type": "markdown",
   "metadata": {},
   "source": [
    "# 我們來看一下實際檔案的內容\n",
    "[請點即此鏈結](http://localhost:8001/edit/spark_tutorial/pixnet.txt)"
   ]
  },
  {
   "cell_type": "markdown",
   "metadata": {},
   "source": [
    "# 載入頁面，並進行 json parsing"
   ]
  },
  {
   "cell_type": "code",
   "execution_count": null,
   "metadata": {
    "collapsed": false
   },
   "outputs": [],
   "source": [
    "import json\n",
    "pixnet = sc.textFile('./pixnet.txt',use_unicode=False).map(\n",
    "    lambda x : json.loads(x)).map(lambda x : (x['url'],x['html']))\n",
    "\n",
    "print \"URL:\", pixnet.first()[0]\n",
    "print\n",
    "print \"HTML 前 200 字元:\", pixnet.first()[1][:200]\n"
   ]
  },
  {
   "cell_type": "markdown",
   "metadata": {},
   "source": [
    "## RDD 常用的 Function 如下\n",
    "* map(funct) - 對 RDD 的裡頭的元素進行處理動作\n",
    "* mapValues (func) - 排除 Key,只對 RDD 的裡頭的元素進行處理動作\n",
    "* reduceByKey(func) - 將相同的 Key 裡頭的 Values 給予合併起來\n",
    "* count() - 計算 RDD 裡頭元素的個數\n",
    "* filter(func) - 根據 condition 判斷是否需要保留\n",
    "* first() - 取得 RDD 裡頭的第一個元素"
   ]
  },
  {
   "cell_type": "markdown",
   "metadata": {},
   "source": [
    "## <span style=\"color: blue\"> 請填入??，來計算\"好吃\"的次數(多少頁面之中)</span>"
   ]
  },
  {
   "cell_type": "code",
   "execution_count": null,
   "metadata": {
    "collapsed": false
   },
   "outputs": [],
   "source": [
    "count_nummber = pixnet.filter(lambda x : u\"??\" in x[1] ).??\n",
    "if count_nummber == 5 : print \"你答對了\""
   ]
  },
  {
   "cell_type": "markdown",
   "metadata": {},
   "source": [
    "##<span style=\"color: blue\">請修改以下的程式碼，並計算\"很好\"所有出現次數，注意!!不是頁面數</span>\n",
    " <span style=\"color:red\">提示:修改 word_count 函式</span>"
   ]
  },
  {
   "cell_type": "code",
   "execution_count": null,
   "metadata": {
    "collapsed": false
   },
   "outputs": [],
   "source": [
    "def word_count(text):\n",
    "    \n",
    "    return text.count(u\"很好\")\n",
    "\n",
    "print \"很好出現了\",word_count(u\"老師很好很好很好很好！！！！\"),\"次\""
   ]
  },
  {
   "cell_type": "code",
   "execution_count": null,
   "metadata": {
    "collapsed": false
   },
   "outputs": [],
   "source": [
    "pixnet.mapValues(word_count).collect()"
   ]
  },
  {
   "cell_type": "raw",
   "metadata": {
    "collapsed": false
   },
   "source": [
    "total_count = pixnet.mapValues(word_count).map(lambda x : x[1]).???\n",
    "if total_count == 73 : print \"你答對了\""
   ]
  }
 ],
 "metadata": {
  "kernelspec": {
   "display_name": "Python 2",
   "language": "python",
   "name": "python2"
  },
  "language_info": {
   "codemirror_mode": {
    "name": "ipython",
    "version": 2
   },
   "file_extension": ".py",
   "mimetype": "text/x-python",
   "name": "python",
   "nbconvert_exporter": "python",
   "pygments_lexer": "ipython2",
   "version": "2.7.6"
  }
 },
 "nbformat": 4,
 "nbformat_minor": 0
}
