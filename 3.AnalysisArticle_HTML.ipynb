{
 "cells": [
  {
   "cell_type": "markdown",
   "metadata": {},
   "source": [
    "# Parse Json"
   ]
  },
  {
   "cell_type": "code",
   "execution_count": 1,
   "metadata": {
    "collapsed": true
   },
   "outputs": [],
   "source": [
    "def parseRaw(json_map):\n",
    "    url = json_map['url']\n",
    "    content = json_map['html']\n",
    "    return (url,content)"
   ]
  },
  {
   "cell_type": "markdown",
   "metadata": {},
   "source": [
    "# 載入原始 RAW Data"
   ]
  },
  {
   "cell_type": "code",
   "execution_count": 2,
   "metadata": {
    "collapsed": true
   },
   "outputs": [],
   "source": [
    "import json\n",
    "import pprint\n",
    "pp = pprint.PrettyPrinter(indent=2)\n",
    "path = \"./pixnet.txt\"\n",
    "all_content = sc.textFile(path).map(json.loads).map(parseRaw)"
   ]
  },
  {
   "cell_type": "markdown",
   "metadata": {},
   "source": [
    "# 利用 LXML Parser 來分析文章結構"
   ]
  },
  {
   "cell_type": "markdown",
   "metadata": {},
   "source": [
    "- `lxml.html` `urlparse` 需在涵式內被import，以供RDD運算時使用\n",
    "- 其他import python package的方法  [Submitting Applications](http://spark.apache.org/docs/latest/submitting-applications.html)\n",
    "    - Use `spark-submit --py-files` to add .py, .zip or .egg files to be distributed with your application. \n",
    "- `lxml.html.fromstring` 的input為HTML string，回傳為可供 `xpath` 處理的物件\n",
    "- `XPath` syntax *[Ref_1](http://www.w3schools.com/xsl/xpath_syntax.asp), [Ref_2](http://www.wowbox.com.tw/blog/article.asp?id=3300)*\n",
    "    - ***/***   Selects from the root node\n",
    "    - ***//***   Selects all nodes in the document from the current node\n",
    "    - ***@***   Selects attributes\n",
    "    - ***//@lang***   Selects all attributes that are named lang\n",
    "    - ***//title[@lang]***   Selects all the title elements that have an attribute named lang\n",
    "- `XPath` usful Chrome plugin [XPath Helper](https://chrome.google.com/webstore/detail/xpath-helper/hgimnogjllphhhkhlmebbmlgjoejdpjl)\n"
   ]
  },
  {
   "cell_type": "code",
   "execution_count": 3,
   "metadata": {
    "collapsed": true
   },
   "outputs": [],
   "source": [
    "def parseImgSrc(x):\n",
    "    try:\n",
    "        urls = list()\n",
    "        import lxml.html\n",
    "        from urlparse import urlparse\n",
    "        node = lxml.html.fromstring(x)\n",
    "        root =  node.getroottree()\n",
    "        for src in root.xpath('//img/@src'):\n",
    "            try :\n",
    "                host = urlparse(src).netloc\n",
    "                if '.' not in host : continue\n",
    "                if host.count('.') == 1 : \n",
    "                    pass\n",
    "                else: \n",
    "                    host = host[host.index('.')+1:]\n",
    "                urls.append('imgsrc_'+host)\n",
    "            except :\n",
    "                print \"Error Parse At:\" , src\n",
    "            \n",
    "        for src in root.xpath('//input[@src]/@src'):\n",
    "            try :\n",
    "                host = urlparse(src).netloc\n",
    "                if '.' not in host : continue\n",
    "                if host.count('.') == 1 : \n",
    "                    pass\n",
    "                else: \n",
    "                    host = host[host.index('.')+1:]\n",
    "                urls.append('imgsrc_'+host)\n",
    "            except :\n",
    "                print \"Error parseImgSrc At:\" , src\n",
    "        \n",
    "    except :\n",
    "        print \"Unexpected error:\", sys.exc_info()\n",
    "    return  urls"
   ]
  },
  {
   "cell_type": "code",
   "execution_count": 4,
   "metadata": {
    "collapsed": false
   },
   "outputs": [
    {
     "data": {
      "text/plain": [
       "u'<!DOCTYPE HTML PUBLIC \"-//W3C//DTD HTML 4.01 Transitional//EN\" \"http://www.w3.org/TR/html4/loose.dtd'"
      ]
     },
     "execution_count": 4,
     "metadata": {},
     "output_type": "execute_result"
    }
   ],
   "source": [
    "all_content.map(lambda x: x[1]).first()[:100]"
   ]
  },
  {
   "cell_type": "markdown",
   "metadata": {},
   "source": [
    "# 取出 Image Src 的列表"
   ]
  },
  {
   "cell_type": "code",
   "execution_count": 5,
   "metadata": {
    "collapsed": false
   },
   "outputs": [
    {
     "name": "stdout",
     "output_type": "stream",
     "text": [
      "[ 'imgsrc_cloudfront.net',\n",
      "  'imgsrc_pimg.tw',\n",
      "  'imgsrc_pimg.tw',\n",
      "  'imgsrc_pimg.tw',\n",
      "  'imgsrc_pimg.tw',\n",
      "  'imgsrc_pimg.tw',\n",
      "  'imgsrc_pimg.tw',\n",
      "  'imgsrc_pimg.tw',\n",
      "  'imgsrc_pimg.tw',\n",
      "  'imgsrc_pimg.tw']\n"
     ]
    }
   ],
   "source": [
    "image_list = all_content.map(lambda x :parseImgSrc(x[1]))\n",
    "pp.pprint(image_list.first()[:10])"
   ]
  },
  {
   "cell_type": "markdown",
   "metadata": {},
   "source": [
    "# 統計 Image Src 的列表"
   ]
  },
  {
   "cell_type": "code",
   "execution_count": 6,
   "metadata": {
    "collapsed": false
   },
   "outputs": [
    {
     "name": "stdout",
     "output_type": "stream",
     "text": [
      "imgsrc_maxcdn.com : 83\n",
      "imgsrc_sopili.net : 5\n",
      "imgsrc_conn.tw : 5\n",
      "imgsrc_visitkorea.or.kr : 1\n",
      "imgsrc_cloudfront.net : 7\n",
      "imgsrc_pimg.tw : 728\n",
      "imgsrc_vbtrax.com : 5\n",
      "imgsrc_ipeen.com.tw : 4\n",
      "imgsrc_oeya.com : 30\n",
      "imgsrc_pixfs.net : 267\n",
      "imgsrc_histats.com : 5\n",
      "imgsrc_facebook.com : 10\n"
     ]
    }
   ],
   "source": [
    "img_src_count = all_content.map(\n",
    "    lambda x :parseImgSrc(x[1])).flatMap(\n",
    "    lambda x: x).countByValue()\n",
    "for i in img_src_count:\n",
    "    print i , ':' , img_src_count[i]"
   ]
  },
  {
   "cell_type": "markdown",
   "metadata": {},
   "source": [
    "#<span style=\"color: blue\">請使用　reduceByKey , sortBy 來計算出 img src 排行榜</span>\n",
    "請參照以下文件\n",
    "[http://spark.apache.org/docs/latest/api/python/pyspark.html#pyspark.RDD]\n",
    "\n",
    "###幾種RDD sorting的方式\n",
    "- 針對key值排序\n",
    "    - 使用 sortByKey\n",
    "        - sc.parallelize(tmp).sortByKey(True, 1).collect()\n",
    "    - 使用 sortBy\n",
    "        - sc.parallelize(tmp).sortBy(lambda x: x[0]).collect()\n",
    "    - 使用 takeOrdered\n",
    "        - sc.parallelize(tmp).takeOrdered(10, lambda s: -1 * s[0])\n",
    "- 針對value排序\n",
    "    - 使用 sortBy\n",
    "        - sc.parallelize(tmp).sortBy(lambda x: x[1]).collect()\n",
    "    - 使用 takeOrdered\n",
    "        - sc.parallelize(tmp).takeOrdered(10, lambda s: -1 * s[1])\n",
    "\n",
    "### takeOrdered()使用方式\n",
    "- sort by keys (ascending): RDD.takeOrdered(num, key = lambda x: x[0])\n",
    "- sort by keys (descending): RDD.takeOrdered(num, key = lambda x: -x[0])\n",
    "- sort by values (ascending): RDD.takeOrdered(num, key = lambda x: x[1])\n",
    "- sort by values (descending): RDD.takeOrdered(num, key = lambda x: -x[1])"
   ]
  },
  {
   "cell_type": "code",
   "execution_count": 13,
   "metadata": {
    "collapsed": false
   },
   "outputs": [
    {
     "data": {
      "text/plain": [
       "[('imgsrc_pimg.tw', 728),\n",
       " ('imgsrc_pixfs.net', 267),\n",
       " ('imgsrc_maxcdn.com', 83),\n",
       " ('imgsrc_oeya.com', 30),\n",
       " ('imgsrc_facebook.com', 10),\n",
       " ('imgsrc_cloudfront.net', 7),\n",
       " ('imgsrc_sopili.net', 5),\n",
       " ('imgsrc_conn.tw', 5),\n",
       " ('imgsrc_vbtrax.com', 5),\n",
       " ('imgsrc_histats.com', 5),\n",
       " ('imgsrc_ipeen.com.tw', 4),\n",
       " ('imgsrc_visitkorea.or.kr', 1)]"
      ]
     },
     "execution_count": 13,
     "metadata": {},
     "output_type": "execute_result"
    }
   ],
   "source": [
    "from operator import add\n",
    "all_content.map(\n",
    "    lambda x :parseImgSrc(x[1])).flatMap(lambda x: x).map(lambda x: (x,1)).reduceByKey(add).sortBy(\n",
    "    lambda x: x[1], ascending=False).collect()"
   ]
  },
  {
   "cell_type": "markdown",
   "metadata": {},
   "source": [
    "#正確的排行如下：\n",
    "\n",
    "<span style=\"color: red\">[說明]</span> 由於是實際網頁資料，結果多少會有變動出入，大致上符合或無明顯異常即可。\n",
    "\n",
    "<code> \n",
    "[('imgsrc_pixfs.net', 219),\n",
    " ('imgsrc_agoda.net', 103),\n",
    " ('imgsrc_static.flickr.com', 53),\n",
    " ('imgsrc_staticflickr.com', 28),\n",
    " ('imgsrc_pimg.tw', 19),\n",
    " ('imgsrc_facebook.com', 12),\n",
    " ('imgsrc_sitebro.com', 10),\n",
    " ('imgsrc_linkwithin.com', 5),\n",
    " ('imgsrc_cloudfront.net', 5),\n",
    " ('imgsrc_prchecker.info', 5),\n",
    " ('imgsrc_visit-japan.jp', 5),\n",
    " ('imgsrc_yimg.com', 2),\n",
    " ('imgsrc_zenfs.com', 2),\n",
    " ('imgsrc_googleusercontent.com', 1)]\n",
    "</code>"
   ]
  },
  {
   "cell_type": "markdown",
   "metadata": {},
   "source": []
  },
  {
   "cell_type": "code",
   "execution_count": null,
   "metadata": {
    "collapsed": true
   },
   "outputs": [],
   "source": []
  }
 ],
 "metadata": {
  "kernelspec": {
   "display_name": "Python 2",
   "language": "python",
   "name": "python2"
  },
  "language_info": {
   "codemirror_mode": {
    "name": "ipython",
    "version": 2
   },
   "file_extension": ".py",
   "mimetype": "text/x-python",
   "name": "python",
   "nbconvert_exporter": "python",
   "pygments_lexer": "ipython2",
   "version": "2.7.6"
  }
 },
 "nbformat": 4,
 "nbformat_minor": 0
}
