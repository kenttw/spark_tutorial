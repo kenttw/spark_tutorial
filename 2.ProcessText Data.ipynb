{
 "cells": [
  {
   "cell_type": "markdown",
   "metadata": {},
   "source": [
    "# 安裝相關套件"
   ]
  },
  {
   "cell_type": "code",
   "execution_count": null,
   "metadata": {
    "collapsed": false
   },
   "outputs": [],
   "source": [
    "!sudo pip install jieba\n",
    "!sudo pip install BeautifulSoup4"
   ]
  },
  {
   "cell_type": "markdown",
   "metadata": {},
   "source": [
    "# 欲抓的網頁列表"
   ]
  },
  {
   "cell_type": "code",
   "execution_count": null,
   "metadata": {
    "collapsed": true
   },
   "outputs": [],
   "source": [
    "urllist = ['http://chahabi77.pixnet.net/blog/post/436715527',\n",
    "           'http://chahabi77.pixnet.net/blog/post/403682269',\n",
    "           'http://chahabi77.pixnet.net/blog/post/354943724',\n",
    "           'http://chahabi77.pixnet.net/blog/post/386442944',\n",
    "           'http://chahabi77.pixnet.net/blog/post/235296791',\n",
    "          ]"
   ]
  },
  {
   "cell_type": "markdown",
   "metadata": {},
   "source": [
    "# 下載網頁並且組成一個檔案"
   ]
  },
  {
   "cell_type": "code",
   "execution_count": null,
   "metadata": {
    "collapsed": false
   },
   "outputs": [],
   "source": [
    "import urllib2\n",
    "import json\n",
    "f = open('./pixnet.txt',\"w\")\n",
    "\n",
    "for u in urllist:\n",
    "    line = {}\n",
    "    response = urllib2.urlopen(u)\n",
    "    html = response.read()\n",
    "    html = html.replace('\\r','').replace('\\n','')\n",
    "    line['html'] = html\n",
    "    line['url'] =u\n",
    "    \n",
    "    line_str = json.dumps(line)\n",
    "    \n",
    "    f.write(line_str+\"\\r\\n\")\n",
    "f.close()"
   ]
  },
  {
   "cell_type": "markdown",
   "metadata": {},
   "source": [
    "# 我們來看一下實際檔案的內容\n",
    "[請點即此鏈結](http://localhost:8001/edit/spark_tutorial/pixnet.txt)"
   ]
  },
  {
   "cell_type": "markdown",
   "metadata": {},
   "source": [
    "# 載入頁面，並進行 json parsing"
   ]
  },
  {
   "cell_type": "code",
   "execution_count": null,
   "metadata": {
    "collapsed": false
   },
   "outputs": [],
   "source": [
    "import json\n",
    "pixnet = sc.textFile('./pixnet.txt',use_unicode=False).map(\n",
    "    lambda x : json.loads(x)).map(lambda x : (x['url'],x['html']))\n",
    "\n",
    "print \"URL:\", pixnet.first()[0]\n",
    "print \"資料筆數: \", pixnet.count()\n",
    "print \"HTML 前 200 字元:\", pixnet.first()[1][:200]\n"
   ]
  },
  {
   "cell_type": "markdown",
   "metadata": {},
   "source": [
    "## RDD 常用的 Function 如下\n",
    "* map(funct) - 對 RDD 的裡頭的元素進行處理動作\n",
    "* mapValues (func) - 排除 Key,只對 RDD 的裡頭的元素進行處理動作\n",
    "* reduceByKey(func) - 將相同的 Key 裡頭的 Values 給予合併起來\n",
    "* count() - 計算 RDD 裡頭元素的個數\n",
    "* filter(func) - 根據 condition 判斷是否需要保留\n",
    "* first() - 取得 RDD 裡頭的第一個元素"
   ]
  },
  {
   "cell_type": "markdown",
   "metadata": {},
   "source": [
    "## <span style=\"color: blue\"> 請填入??，來計算\"好吃\"的次數(多少頁面之中)</span>"
   ]
  },
  {
   "cell_type": "code",
   "execution_count": null,
   "metadata": {
    "collapsed": false
   },
   "outputs": [],
   "source": [
    "count_nummber = pixnet.filter(lambda x : u\"??\" in x[1] ).??\n",
    "if count_nummber == 5 : print \"你答對了\""
   ]
  },
  {
   "cell_type": "markdown",
   "metadata": {},
   "source": [
    "##<span style=\"color: blue\">請修改以下的程式碼，並計算\"好吃\"所有出現次數，注意!!不是頁面數</span>\n",
    " <span style=\"color:red\">提示:修改 word_count 函式</span>"
   ]
  },
  {
   "cell_type": "code",
   "execution_count": null,
   "metadata": {
    "collapsed": false
   },
   "outputs": [],
   "source": [
    "def word_count(text):\n",
    "    \n",
    "    return text.count(u\"好吃\")\n",
    "\n",
    "print \"好吃出現了\",word_count(u\"老師好吃好吃好吃好吃！！！！\"),\"次\""
   ]
  },
  {
   "cell_type": "code",
   "execution_count": null,
   "metadata": {
    "collapsed": false
   },
   "outputs": [],
   "source": [
    "pixnet.mapValues(word_count).collect()"
   ]
  },
  {
   "cell_type": "code",
   "execution_count": null,
   "metadata": {
    "collapsed": false
   },
   "outputs": [],
   "source": [
    "total_count = pixnet.mapValues(word_count).map(lambda x : x[1]).??\n",
    "if total_count == 59 : print \"你答對了\"\n",
    "else : print \"答錯了！你的答案是 %d, 正確答案是59\" % (total_count)"
   ]
  }
 ],
 "metadata": {
  "kernelspec": {
   "display_name": "Python 2",
   "language": "python",
   "name": "python2"
  },
  "language_info": {
   "codemirror_mode": {
    "name": "ipython",
    "version": 2
   },
   "file_extension": ".py",
   "mimetype": "text/x-python",
   "name": "python",
   "nbconvert_exporter": "python",
   "pygments_lexer": "ipython2",
   "version": "2.7.6"
  }
 },
 "nbformat": 4,
 "nbformat_minor": 0
}
